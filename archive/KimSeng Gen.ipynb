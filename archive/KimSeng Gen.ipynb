{
 "cells": [
  {
   "cell_type": "code",
   "execution_count": 1,
   "id": "eb8a77e6",
   "metadata": {},
   "outputs": [],
   "source": [
    "#import packages\n",
    "from mypackage.constants import SORTER, KK_DICT, FLAVOUR_DICT, SHOP_NAME\n",
    "from mypackage.helpers import Helper\n",
    "import pandas as pd\n",
    "from datetime import date, timedelta\n",
    "import os\n",
    "import dataframe_image as dfi\n",
    "import logging\n",
    "\n",
    "import win32com.client\n",
    "from PIL import ImageGrab\n",
    "\n",
    "#Setup\n",
    "pd.set_option('display.max_rows', 1000)"
   ]
  },
  {
   "cell_type": "markdown",
   "id": "49aa66ef",
   "metadata": {},
   "source": [
    "## KimSeng"
   ]
  },
  {
   "cell_type": "code",
   "execution_count": 4,
   "id": "741d7b64",
   "metadata": {},
   "outputs": [],
   "source": [
    "def process_input_ks(df, pick_up_point_name,):\n",
    "    '''\n",
    "    clean df\n",
    "    '''\n",
    "    #https://stackoverflow.com/questions/23482668/sorting-by-a-custom-list-in-pandas/27255567\n",
    "    # Create the dictionary that defines the order for sorting\n",
    "    sorter_index = dict(zip(SORTER, range(len(SORTER))))\n",
    "\n",
    "    # Generate a rank column that will be used to sort the dataframe numerically\n",
    "    df['Point_Rank'] = df[pick_up_point_name].map(sorter_index, SORTER)\n",
    "    \n",
    "    # Here is the result asked with the lexicographic sort\n",
    "    # Result may be hard to analyze, so a second sorting is proposed next\n",
    "    df.sort_values('Point_Rank', ascending = True, inplace = True)\n",
    "    df.drop('Point_Rank', 1, inplace = True)\n",
    "    #insert a column of packet numbering\n",
    "    df.insert(3, \"Packet No.\", range(1,len(df['Email Address'])+1))  \n",
    "    #Generate a column for location name conversion\n",
    "    df['Location'] = df[pick_up_point_name].map(KK_DICT, SORTER)\n",
    "    return df\n",
    "\n",
    "def output_text_ks(df, pick_up_point_name, output_text_path):\n",
    "    # order list\n",
    "    dishes = df[df.columns[6]].tolist()\n",
    "    customizes = df[df.columns[7]].fillna(' ').tolist()\n",
    "    with open(os.path.join(output_text_path, 'Order List.txt'), 'w', encoding=\"utf-8\") as order_list:\n",
    "        for index, (d, c) in enumerate(zip(dishes, customizes)):\n",
    "            order_list.write(f'{index+1}. \\n')\n",
    "            for dish in d.split(','):\n",
    "                dish = dish.strip()\n",
    "                order_list.write(dish)\n",
    "                order_list.write('\\n')\n",
    "\n",
    "            for customize in c.split(','):\n",
    "                customize = customize.strip()\n",
    "                order_list.write(customize + '\\n')\n",
    "\n",
    "            order_list.write('\\n')\n",
    "\n",
    "    unique_points = df[pick_up_point_name].unique()\n",
    "    #for loop min() and max() of index of each location into txt file.    \n",
    "    with open(os.path.join(output_text_path, 'Order Location.txt'), 'w', encoding=\"utf-8\") as order_location:\n",
    "        for point in unique_points:\n",
    "            if df[df[pick_up_point_name]== point]['Packet No.'].min() == df[df[pick_up_point_name]== point]['Packet No.'].max():\n",
    "                order_location.write(f\"{df[df[pick_up_point_name]== point]['Packet No.'].min()}={KK_DICT[point]}\"+\"\\n\")\n",
    "            else:\n",
    "                order_location.write(f\"{df[df[pick_up_point_name]== point]['Packet No.'].min()}-{df[df[pick_up_point_name]== point]['Packet No.'].max()}={KK_DICT[point]}\"+\"\\n\")\n",
    "\n",
    "\n",
    "def generate_pickup_image_ks(df, excel_output_path, image_output_path):\n",
    "    '''\n",
    "    Style df > Export it > Generate image from the excel\n",
    "    '''\n",
    "    logging.info(f\"Generating pickup image...\")\n",
    "    \n",
    "    df_style = df.style.apply(Helper.highlight_rows_ks, axis=1)\n",
    "\n",
    "    #Export as excel\n",
    "    writer = pd.ExcelWriter(excel_output_path)\n",
    "    df_style.to_excel(writer, sheet_name='Sheet1', index = False)\n",
    "\n",
    "    #format for the column width, .set_column(index_start, index_end, width)\n",
    "    # writer.sheets['Sheet1'].set_column(3, 3, 5)\n",
    "    # writer.sheets['Sheet1'].set_column(4, 4, 30)\n",
    "    # writer.sheets['Sheet1'].set_column(5, 5, 40)\n",
    "    # writer.sheets['Sheet1'].set_column(6, 6, 45)\n",
    "\n",
    "    writer.close()\n",
    "\n",
    "    o = win32com.client.Dispatch('Excel.Application')\n",
    "    wb = o.Workbooks.Open(os.path.join(os.getcwd(), excel_output_path))\n",
    "    ws = wb.Worksheets['Sheet1']\n",
    "\n",
    "    ws.Range(ws.Cells(1,1),ws.Cells(df.shape[0],df.shape[1])).CopyPicture(Format=2)\n",
    "\n",
    "    img = ImageGrab.grabclipboard()\n",
    "    img.save(image_output_path)\n",
    "    wb.Close(True)\n",
    "\n",
    "    logging.info(f\"Image generated in {image_output_path}!\")\n",
    "\n",
    "def run_ks(date_str):\n",
    "    shop_name = SHOP_NAME['KS'] #or 'JS'\n",
    "    #create folders\n",
    "    Helper.create_folders(shop_name, date_str)\n",
    "    pick_up_point_name = \"KimSeng Food Pick Up Point\"\n",
    "    shop_input_path = os.path.join(shop_name, 'input')\n",
    "    shop_output_path = os.path.join(shop_name, 'output', date_str)\n",
    "\n",
    "    excel_output_path = os.path.join(shop_output_path, f\"{date_str} orders.xlsx\")\n",
    "    image_output_path = os.path.join(shop_output_path, f\"{date_str} image.jpg\")\n",
    "    \n",
    "    for file in os.listdir(shop_input_path):\n",
    "        #if today file exist:\n",
    "        if date_str in file:\n",
    "            logging.info(f\"Today's {file} found! cleaning the df...\")\n",
    "            df = pd.read_csv(os.path.join(shop_input_path, file))\n",
    "            df = process_input_ks(df, pick_up_point_name)\n",
    "            # display(df)\n",
    "            output_text_ks(df, pick_up_point_name, shop_output_path) ##print text\n",
    "            generate_pickup_image_ks(df, excel_output_path, image_output_path)\n",
    "            break\n",
    "        \n",
    "        logging.info(f\"{date_str} file not found in {shop_name}. Exiting the program...\")"
   ]
  },
  {
   "cell_type": "code",
   "execution_count": 5,
   "id": "4a223e69",
   "metadata": {},
   "outputs": [
    {
     "name": "stderr",
     "output_type": "stream",
     "text": [
      "C:\\Users\\USER\\AppData\\Local\\Temp\\ipykernel_17472\\3517983203.py:15: FutureWarning: In a future version of pandas all arguments of DataFrame.drop except for the argument 'labels' will be keyword-only.\n",
      "  df.drop('Point_Rank', 1, inplace = True)\n"
     ]
    }
   ],
   "source": [
    "# today_str = date.today().strftime('%d_%m_%Y')\n",
    "today_str = date.today().strftime('27_10_2022')\n",
    "run_ks(today_str)"
   ]
  },
  {
   "cell_type": "code",
   "execution_count": null,
   "id": "0fd000e5",
   "metadata": {},
   "outputs": [],
   "source": []
  }
 ],
 "metadata": {
  "kernelspec": {
   "display_name": "Python 3.10.2 64-bit",
   "language": "python",
   "name": "python3"
  },
  "language_info": {
   "codemirror_mode": {
    "name": "ipython",
    "version": 3
   },
   "file_extension": ".py",
   "mimetype": "text/x-python",
   "name": "python",
   "nbconvert_exporter": "python",
   "pygments_lexer": "ipython3",
   "version": "3.10.2"
  },
  "vscode": {
   "interpreter": {
    "hash": "df95319d8ce4e1d89f5365ae10992bc1f65da593082b1d264e8f529830ec2f02"
   }
  }
 },
 "nbformat": 4,
 "nbformat_minor": 5
}
