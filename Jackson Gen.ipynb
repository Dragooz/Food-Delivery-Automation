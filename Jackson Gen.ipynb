{
 "cells": [
  {
   "cell_type": "code",
   "execution_count": 5,
   "id": "eb8a77e6",
   "metadata": {},
   "outputs": [
    {
     "ename": "ModuleNotFoundError",
     "evalue": "No module named 'mypackage.helper_objs'",
     "output_type": "error",
     "traceback": [
      "\u001b[1;31m---------------------------------------------------------------------------\u001b[0m",
      "\u001b[1;31mModuleNotFoundError\u001b[0m                       Traceback (most recent call last)",
      "Cell \u001b[1;32mIn [5], line 3\u001b[0m\n\u001b[0;32m      1\u001b[0m \u001b[39m#import packages\u001b[39;00m\n\u001b[0;32m      2\u001b[0m \u001b[39mfrom\u001b[39;00m \u001b[39mmypackage\u001b[39;00m\u001b[39m.\u001b[39;00m\u001b[39mconstants\u001b[39;00m \u001b[39mimport\u001b[39;00m SORTER, KK_DICT, FLAVOUR_DICT, SHOP_NAME\n\u001b[1;32m----> 3\u001b[0m \u001b[39mfrom\u001b[39;00m \u001b[39mmypackage\u001b[39;00m\u001b[39m.\u001b[39;00m\u001b[39mhelper_objs\u001b[39;00m \u001b[39mimport\u001b[39;00m helper_obj\n\u001b[0;32m      4\u001b[0m \u001b[39mimport\u001b[39;00m \u001b[39mpandas\u001b[39;00m \u001b[39mas\u001b[39;00m \u001b[39mpd\u001b[39;00m\n\u001b[0;32m      5\u001b[0m \u001b[39mfrom\u001b[39;00m \u001b[39mdatetime\u001b[39;00m \u001b[39mimport\u001b[39;00m date, timedelta\n",
      "\u001b[1;31mModuleNotFoundError\u001b[0m: No module named 'mypackage.helper_objs'"
     ]
    }
   ],
   "source": [
    "#import packages\n",
    "from mypackage.constants import SORTER, KK_DICT, FLAVOUR_DICT, SHOP_NAME\n",
    "from mypackage.helpers import Helper\n",
    "import pandas as pd\n",
    "from datetime import date, timedelta\n",
    "import os\n",
    "import dataframe_image as dfi\n",
    "import logging\n",
    "\n",
    "import win32com.client\n",
    "from PIL import ImageGrab\n",
    "\n",
    "#Setup\n",
    "pd.set_option('display.max_rows', 1000)\n",
    "helper_obj_obj = Helper()"
   ]
  },
  {
   "cell_type": "markdown",
   "id": "9a8fb792",
   "metadata": {},
   "source": [
    "## Jackson"
   ]
  },
  {
   "cell_type": "code",
   "execution_count": 2,
   "id": "d60acb24",
   "metadata": {},
   "outputs": [],
   "source": [
    "def process_input_js(df):\n",
    "    '''\n",
    "    clean df\n",
    "    '''\n",
    "    #https://stackoverflow.com/questions/23482668/sorting-by-a-custom-list-in-pandas/27255567\n",
    "    # Create the dictionary that defines the order for sorting\n",
    "    sorter_index = dict(zip(SORTER, range(len(SORTER))))\n",
    "    pick_up_point_name = \"DINNER Food Pick Up Point\"\n",
    "    menu_name = f'Menu (Select One)'\n",
    "\n",
    "    # Generate a rank column that will be used to sort the dataframe numerically\n",
    "    df['Point_Rank'] = df[pick_up_point_name].map(sorter_index, SORTER)\n",
    "    \n",
    "    # Here is the result asked with the lexicographic sort\n",
    "    # Result may be hard to analyze, so a second sorting is proposed next\n",
    "    df.sort_values(['Point_Rank','Menu (Select One)'], \n",
    "                ascending = [True, True], inplace = True)\n",
    "    df.drop('Point_Rank', 1, inplace = True)\n",
    "    #insert a column of packet numbering\n",
    "    df.insert(3, \"No.\", range(1,len(df['Email Address'])+1))  \n",
    "    #create a list of all unique locations.\n",
    "    unique_points = df[pick_up_point_name].unique()\n",
    "    #Generate a column for location name conversion\n",
    "    df['Location'] = df[pick_up_point_name].map(KK_DICT, SORTER)\n",
    "    #Generate a column for Flavour name conversion\n",
    "    df['Flavour'] = df['Menu (Select One)'].map(FLAVOUR_DICT, SORTER)\n",
    "    return df\n",
    "\n",
    "def output_text_js(df, output_text_path):\n",
    "    unique_locations = df['Location'].unique()\n",
    "    unique_flavours = df['Flavour'].unique()\n",
    "\n",
    "    with open(os.path.join(output_text_path, 'Chef - Total Food To Prepare.txt'), 'w') as food_prepare:\n",
    "        food_prepare.write(str(df['Menu (Select One)'].value_counts().rename_axis('Menu').to_frame('counts')))\n",
    "        \n",
    "    with open(os.path.join(output_text_path, 'Runner - Delivery List.txt'), 'w') as runner_list:\n",
    "        for index, flavour in enumerate(unique_flavours):\n",
    "            if index != 0:\n",
    "                runner_list.write(f'\\n')\n",
    "            runner_list.write(f'*{flavour}*\\n')\n",
    "            for location in unique_locations:\n",
    "                if (((df[\"Location\"] == location)&(df[\"Flavour\"] == flavour)).sum()) != 0:\n",
    "                    runner_list.write(f'{location}={((df[\"Location\"] == location)&(df[\"Flavour\"] == flavour)).sum()}\\n')\n",
    "\n",
    "    with open(os.path.join(output_text_path, 'Chef - Assign Food List.txt'), 'w') as food_list:\n",
    "        for index, location in enumerate(unique_locations):\n",
    "            if index != 0:\n",
    "                food_list.write(f'\\n')\n",
    "            for flavour in unique_flavours:\n",
    "                if (((df[\"Location\"] == location)&(df[\"Flavour\"] == flavour)).sum()) != 0:\n",
    "                    food_list.write(f'{location} {flavour}={((df[\"Location\"] == location)&(df[\"Flavour\"] == flavour)).sum()}\\n')\n",
    "\n",
    "def generate_pickup_image_js(df, excel_output_path, image_output_path):\n",
    "    '''\n",
    "    Style df > Export it > Generate image from the excel\n",
    "    '''\n",
    "    logging.info(f\"Generating pickup image...\")\n",
    "    df_style = df.style.apply(helper_obj.highlight_rows_js, axis=1)\n",
    "\n",
    "    #Export as excel\n",
    "    writer = pd.ExcelWriter(excel_output_path)\n",
    "    df_style.to_excel(writer, sheet_name='Sheet1', index = False)\n",
    "\n",
    "    #format for the column width, .set_column(index_start, index_end, width)\n",
    "    # writer.sheets['Sheet1'].set_column(3, 3, 5)\n",
    "    # writer.sheets['Sheet1'].set_column(4, 4, 30)\n",
    "    # writer.sheets['Sheet1'].set_column(5, 5, 40)\n",
    "    # writer.sheets['Sheet1'].set_column(6, 6, 45)\n",
    "\n",
    "    writer.save()\n",
    "    writer.close()\n",
    "\n",
    "    #set No. as index\n",
    "    df = df.set_index(\"No.\")\n",
    "\n",
    "    #Drop columns unwanted in ss\n",
    "    df = df.drop(['Timestamp', 'Email Address','Contact No. (For purpose of food arrival notification)','Receipt of Payment','Location','Flavour'], axis=1)\n",
    "\n",
    "    #highlight just as above\n",
    "    df_style_ss = df.style.apply(helper_obj.highlight_rows_js, axis=1)\n",
    "\n",
    "    #create image\n",
    "    dfi.export(df_style_ss, f'{image_output_path}.png')\n",
    "\n",
    "    logging.info(f\"Image generated in {image_output_path}!\")\n",
    "\n",
    "def run_js(date_str):\n",
    "    shop_name = SHOP_NAME['JS']\n",
    "    #create folders\n",
    "    helper_obj.create_folders(shop_name, date_str)\n",
    "\n",
    "    shop_input_path = os.path.join(shop_name, 'input')\n",
    "    shop_output_path = os.path.join(shop_name, 'output', date_str)\n",
    "\n",
    "    excel_output_path = os.path.join(shop_output_path, f\"{date_str} orders.xlsx\")\n",
    "    excel_output_path = os.path.join(shop_output_path, f\"{date_str} orders.xlsx\")\n",
    "    image_output_path = os.path.join(shop_output_path, f\"{date_str} image\")\n",
    "    \n",
    "    for file in os.listdir(shop_input_path):\n",
    "        #if today file exist:\n",
    "        if date_str in file:\n",
    "            logging.info(f\"Today's {file} found! cleaning the df...\")\n",
    "            df = pd.read_csv(os.path.join(shop_input_path, file))\n",
    "            df = process_input_js(df)\n",
    "            output_text_js(df, shop_output_path) ##print text\n",
    "\n",
    "            generate_pickup_image_js(df, excel_output_path, image_output_path)\n",
    "            break\n",
    "        \n",
    "        logging.info(f\"{date_str} file not found in {shop_name}. Exiting the program...\")"
   ]
  },
  {
   "cell_type": "code",
   "execution_count": 3,
   "id": "0ee0e430",
   "metadata": {},
   "outputs": [
    {
     "name": "stderr",
     "output_type": "stream",
     "text": [
      "C:\\Users\\USER\\AppData\\Local\\Temp\\ipykernel_17472\\686012450.py:18: FutureWarning: In a future version of pandas all arguments of DataFrame.drop except for the argument 'labels' will be keyword-only.\n",
      "  df.drop('Point_Rank', 1, inplace = True)\n"
     ]
    }
   ],
   "source": [
    "# today_str = date.today().strftime('%d_%m_%Y')\n",
    "today_str = date.today().strftime('7_11_2022')\n",
    "run_js(today_str)"
   ]
  }
 ],
 "metadata": {
  "kernelspec": {
   "display_name": "Python 3.10.2 64-bit",
   "language": "python",
   "name": "python3"
  },
  "language_info": {
   "codemirror_mode": {
    "name": "ipython",
    "version": 3
   },
   "file_extension": ".py",
   "mimetype": "text/x-python",
   "name": "python",
   "nbconvert_exporter": "python",
   "pygments_lexer": "ipython3",
   "version": "3.10.2"
  },
  "vscode": {
   "interpreter": {
    "hash": "df95319d8ce4e1d89f5365ae10992bc1f65da593082b1d264e8f529830ec2f02"
   }
  }
 },
 "nbformat": 4,
 "nbformat_minor": 5
}
